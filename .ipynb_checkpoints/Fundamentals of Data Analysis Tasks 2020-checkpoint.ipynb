{
 "cells": [
  {
   "cell_type": "markdown",
   "metadata": {},
   "source": [
    "### Task  No. 1 : \n",
    "\n",
    "Write a Python function called counts that takes a list as\n",
    "input and returns a dictionary of unique items in the list as keys and the number of\n",
    "times each item appears as values\n",
    "\n",
    "\n",
    "#### Background Research: [1,2] \n",
    "\n",
    "##### Lists and Dictionaries \n",
    "\n",
    "In python , a Dictionary and a list are basically a collection of objects and share a number of characteristics such as being mutable and changeable. It is how elements in a list or dictionary is accessed that the difference between them arises :\n",
    "\n",
    "- Lists elements are accessed through their position in that list whereas dictionary elements are accessed through their keys\n",
    "\n",
    "So for this assignment , we are asked to count a list of unique items and to output the results in a form of a dictionary collection of keys and values. Where keys are the items in list and value is the number of times each item appears. \n",
    "\n",
    "\n",
    "Its important to note ,key/value elements are in curly brackets separated by a colon in dictionaries. To access information from dictionaries ,we use square brackets.  \n",
    "\n",
    "A dictionary Key  ( any data type or built in function) can only be used once , otherwise it will be overwritten however this is not the case for a value .\n",
    "\n",
    "Example code below taken from the task details shows the difference in order between lists and dictionaries :\n"
   ]
  },
  {
   "cell_type": "code",
   "execution_count": null,
   "metadata": {},
   "outputs": [],
   "source": [
    "List = ['A', 'A', 'B', 'C', 'A']\n",
    "List [0]"
   ]
  },
  {
   "cell_type": "code",
   "execution_count": null,
   "metadata": {},
   "outputs": [],
   "source": [
    "Dictionary = {'A': 3, 'B': 1, 'C': 1}\n",
    "Dictionary ['A']"
   ]
  },
  {
   "cell_type": "markdown",
   "metadata": {},
   "source": [
    "For a list above , looking for the element in position 0 gives you 'A' , however looking the an element in a dictionary such as 'A' just gives you the corresponding value i.e number of times it appears.\n"
   ]
  },
  {
   "cell_type": "markdown",
   "metadata": {},
   "source": [
    "\n",
    "##### Methods of Counting elements in list and outputing via a Dictionary [3,4] \n",
    "\n",
    "There are different Ways in Python to count words without the use of any modules  : \n",
    "\n",
    "1.For loop :where the number of spaces between the two characters are counted\n",
    "\n",
    "2.Split() : by removing the spaces from the start and end, breaking every word whenever encountered a space and storing them in a list. The length (len) of the list is the total count of words.\n",
    "\n",
    "There are different Ways in Python to  count the frequency of words in a string : \n",
    "\n",
    "1.Initializing a dictionary to store the frequency of words.The keys operation returns a list of keys that are defined in the dictionary. \n",
    "\n",
    "2.Count() can be used to count the number of times a word occurs in a string or in other words it is used to tell the frequency of a word in a string. We just need to pass the word in the argument.\n",
    "\n"
   ]
  },
  {
   "cell_type": "markdown",
   "metadata": {},
   "source": [
    "#### Development [3]\n",
    "\n",
    "Here we will look at the 2 ways mentioned of counting the frequency of words in a string : \n",
    "\n",
    "1. Using the Task example of list elements and creating a dictionary. Also incorporating a For loop and an IF statement to return a dictionary output where each list element is key. For this example it is the length of the original list can be complex and content of the list that can be limiting or govern the output dictionary result. See Code Example no. 1"
   ]
  },
  {
   "cell_type": "code",
   "execution_count": null,
   "metadata": {
    "scrolled": true
   },
   "outputs": [],
   "source": [
    "#CODE EXAMPLE NO.1\n",
    "\n",
    "my_list =[\"A\",\"A\",\"B\",\"C\",\"A\"]\n",
    "f = {} # created an empty dictionary\n",
    "for item in my_list:\n",
    "    if item in f:\n",
    "        f[item] += 1\n",
    "    else:\n",
    "        f[item] = 1\n",
    "print(f) \n"
   ]
  },
  {
   "cell_type": "markdown",
   "metadata": {},
   "source": [
    "#### Limitations [5]\n",
    "\n",
    "It is important to consider the data types to be examined. In terms of strings , they may need to be preprocessed prior to been counted. By Preprocessed , I mean removing spaces , making the string in the same cases ( either uppercase or lowercase). Also if we are using boolean expressions in the same list , these must be positioned last in the list in order to be counted.  Below is example of this : \n",
    "\n",
    "A limitation to this function is the data types /elements contained in the list. For example , if our list contain one type of element , either a string ( lower case or higher case elements) or integers or even boolean expressions then the function would work. The arrangement of the data types in the list is important also. For example if there are integers /string elements before a boolean expressions , than the function would output a correct count. However if they were arrangement after the boolean expression , then the python output would be incorrect. That is in python , the True expression counts as 1 and the False expression counts as 0. \n",
    "In Code example no. 2  we have included various data types in list and also created the function count(). Count() can be used to count the number of times a word occurs in a string or in other words it is used to tell the frequency of a word in a string. We just need to pass the list element in the argument\n",
    "\n"
   ]
  },
  {
   "cell_type": "code",
   "execution_count": null,
   "metadata": {},
   "outputs": [],
   "source": [
    "#CODE EXAMPLE NO.2\n",
    "\n",
    "def CountFrequency(my_list): \n",
    "      \n",
    "    # Creating an empty dictionary  \n",
    "    freq = {} \n",
    "    for items in my_list: \n",
    "        freq[items] = my_list.count(items) \n",
    "        \n",
    "    for key, value in freq.items(): \n",
    "        print (key ,value)\n",
    "        \n",
    "# Driver function \n",
    "if __name__ == \"__main__\":  \n",
    "   \n",
    "    #my_list1 =[True, False, True ,\"A\",\"A\",\"B\",\"C\",\"A\", 1,2,2,2,1,1,1]\n",
    "    #my_list2 =[\"A\",\"A\",\"B\",\"C\",\"A\",True,True,True]\n",
    "    CountFrequency(my_list) \n"
   ]
  },
  {
   "cell_type": "markdown",
   "metadata": {},
   "source": [
    "\n",
    "The Python program to counted the frequency of elements in a list using a dictionary and the in-built count() function but the output returned a dictionary stating the True expression appeared 6 times , however it was only there 3 times but because there were integers at the end of the list , it counted the 1s as true as well\n"
   ]
  },
  {
   "cell_type": "markdown",
   "metadata": {},
   "source": [
    "To overcome this and other examples of data types issues , variables can be added to the function, See code example no. 3 below which shows an example of case sensitivity and use of .lower() :"
   ]
  },
  {
   "cell_type": "code",
   "execution_count": null,
   "metadata": {
    "scrolled": true
   },
   "outputs": [],
   "source": [
    "####Code example no. 3\n",
    "def CountFrequency(my_list): \n",
    "    \n",
    "    my_list=my_list.lower()\n",
    "    my_list=my_list.split(\" \")\n",
    "    # Creating an empty dictionary  \n",
    "    freq = {} \n",
    "    for items in my_list: \n",
    "        freq[items] = my_list.count(items) \n",
    "        \n",
    "    for key, value in freq.items(): \n",
    "        print (key ,value)\n",
    "# Driver function \n",
    "if __name__ == \"__main__\":  \n",
    "    \n",
    "\n",
    "    user_input= str(input(\"Enter a string:\"))\n",
    "    \n",
    "    print(CountFrequency(user_input))\n"
   ]
  },
  {
   "cell_type": "markdown",
   "metadata": {},
   "source": [
    "#### Code example no. 4 and 5 [6,7]\n",
    "\n",
    "A Python program to count the frequency of elements determined by user input by using the get() function. Python dictionary method get() returns a value for the given key. If key is not available then returns default value None."
   ]
  },
  {
   "cell_type": "markdown",
   "metadata": {},
   "source": []
  },
  {
   "cell_type": "code",
   "execution_count": null,
   "metadata": {},
   "outputs": [],
   "source": [
    "####Code example no. 4\n",
    "user_str = input('Enter String:')\n",
    "l = user_str.split()\n",
    "d={} #create a dictionary\n",
    "for i in l: \n",
    "    d[i]=d.get(i,0)+1 #functionality available in dictionary\n",
    "print(d)"
   ]
  },
  {
   "cell_type": "markdown",
   "metadata": {},
   "source": [
    "Code example no. 5 is another example of using if/else statement in a for loop to output keys and values into a dictionary."
   ]
  },
  {
   "cell_type": "code",
   "execution_count": null,
   "metadata": {},
   "outputs": [],
   "source": [
    "#Code example no. 5 \n",
    "\n",
    "def CountFrequency(string):\n",
    "    \n",
    "    string=string.lower() # converting string to lowercase\n",
    "    string=string.split(\" \")\n",
    "    Count_Frequency={}# creating a dictionary\n",
    "\n",
    "    for i in string: # using a for loop to count the frequencies of all the characters. \n",
    "\n",
    "        if i in Count_Frequency:\n",
    "            Count_Frequency[i]+=1\n",
    "        else:\n",
    "            Count_Frequency[i]=1\n",
    "\n",
    "    return(Count_Frequency)\n",
    "    \n",
    "\n",
    "user_input= str(input(\"Enter a string:\"))\n",
    "print(CountFrequency(user_input)) # the values of the characters and the frequencies stored as keys in the dictionary"
   ]
  },
  {
   "cell_type": "markdown",
   "metadata": {},
   "source": [
    "### References : \n",
    "\n",
    "[1] https://www.w3schools.com/python/python_dictionaries.asp\n",
    "\n",
    "[2] https://realpython.com/python-dicts/\n",
    "\n",
    "[3] https://www.geeksforgeeks.org/counting-the-frequencies-in-a-list-using-dictionary-in-python/\n",
    "\n",
    "[4] https://www.geeksforgeeks.org/python-frequency-of-each-character-in-string/\n",
    "\n",
    "[5] https://www.tutorialspoint.com/counting-the-frequencies-in-a-list-using-dictionary-in-python\n",
    "\n",
    "[6] https://www.pythonpool.com/python-count-words-in-string/\n",
    "\n",
    "[7] https://www.includehelp.com/python/find-the-frequency-of-each-character-in-a-string.aspx\n",
    "\n",
    "\n",
    "\n",
    "\n",
    "\n",
    "\n",
    "------\n"
   ]
  },
  {
   "cell_type": "markdown",
   "metadata": {},
   "source": [
    "### Task no. 2\n",
    "\n",
    "Write a Python function call dicerolls that simulates rolling dice : \n",
    "    \n",
    "It should : \n",
    "    \n",
    "    - have 2 parameters (k) number of dice  and (n) no. of times to roll the dice \n",
    "    - simulate randomly rolling k dice n times, keeping track of each total face value\n",
    "    - return a dictionary with the number of times each possible total face value occurred\n",
    "    \n",
    "#### Background research :\n",
    "\n",
    "\n",
    "    "
   ]
  },
  {
   "cell_type": "markdown",
   "metadata": {},
   "source": [
    "##### Development : \n",
    "\n",
    "Code No.1 \n",
    "\n"
   ]
  },
  {
   "cell_type": "code",
   "execution_count": 29,
   "metadata": {},
   "outputs": [
    {
     "name": "stdout",
     "output_type": "stream",
     "text": [
      "8\n"
     ]
    }
   ],
   "source": [
    "import random\n",
    "import numpy as np\n",
    "rng=np.random.default_rng()\n",
    "x=rng.integers(1,7,size=3)\n",
    "print(np.sum(x))"
   ]
  },
  {
   "cell_type": "code",
   "execution_count": null,
   "metadata": {},
   "outputs": [],
   "source": []
  },
  {
   "cell_type": "code",
   "execution_count": 3,
   "metadata": {},
   "outputs": [
    {
     "name": "stdout",
     "output_type": "stream",
     "text": [
      "The number 2 was rolled 84 times.\n",
      "The number 3 was rolled 97 times.\n",
      "The number 4 was rolled 69 times.\n",
      "The number 5 was rolled 75 times.\n",
      "The number 6 was rolled 85 times.\n",
      "The number 7 was rolled 81 times.\n",
      "The number 8 was rolled 90 times.\n",
      "The number 9 was rolled 86 times.\n",
      "The number 10 was rolled 103 times.\n",
      "The number 11 was rolled 78 times.\n",
      "The number 12 was rolled 81 times.\n"
     ]
    }
   ],
   "source": [
    "import numpy as np\n",
    "import random\n",
    "\n",
    "NUM_ROLLS = 1000 # Change how many rolls of die\n",
    "DIE_SIDES = 12 # 12 to simulate 2 dice\n",
    "\n",
    "# Create the dictionary to store the results of each roll of the dice.\n",
    "rolls = {}\n",
    "\n",
    "#Loop for rolling the die NUM_ROLLS times\n",
    "for r in range(NUM_ROLLS):\n",
    "    roll_result = random.randint(1, DIE_SIDES)\n",
    "    if roll_result in rolls:\n",
    "        # Add to the count for this number.\n",
    "        rolls[roll_result] += 1\n",
    "\n",
    "    else:\n",
    "\n",
    "        # Record the first roll result for this number.\n",
    "        rolls[roll_result] = 1\n",
    "\n",
    "# Print how many times each number was rolled for both dice\n",
    "for roll_result in range(2, 13):\n",
    "    print(\"The number\", str(roll_result), \"was rolled\", str(rolls[roll_result]), \"times.\")\n"
   ]
  },
  {
   "cell_type": "code",
   "execution_count": 1,
   "metadata": {},
   "outputs": [
    {
     "name": "stdout",
     "output_type": "stream",
     "text": [
      "The number 1 was rolled 72 times.\n",
      "The number 2 was rolled 72 times.\n",
      "The number 3 was rolled 91 times.\n",
      "The number 4 was rolled 68 times.\n",
      "The number 5 was rolled 73 times.\n",
      "The number 6 was rolled 80 times.\n",
      "The number 7 was rolled 75 times.\n",
      "The number 8 was rolled 99 times.\n",
      "The number 9 was rolled 73 times.\n",
      "The number 10 was rolled 82 times.\n",
      "The number 11 was rolled 72 times.\n",
      "The number 12 was rolled 69 times.\n",
      "The total roll result was 6982\n"
     ]
    }
   ],
   "source": [
    "import numpy as np\n",
    "import random\n",
    "def Diceroll (NUM_ROLLS,DIE_SIDES):\n",
    "    NUM_ROLLS = 1000\n",
    "    DIE_SIDES = 12\n",
    "# Create the dictionary to store the results of each roll of the die.\n",
    "rolls = {}\n",
    "#Loop for rolling the die NUM_ROLLS times\n",
    "for r in range (1000):\n",
    "    roll_result = random.randint(1, 13)\n",
    "    if roll_result in rolls:\n",
    "        # Add to the count for this number.\n",
    "        rolls[roll_result] += 1\n",
    "    else:\n",
    "        # Record the first roll result for this number.\n",
    "        rolls[roll_result] = 1\n",
    "\n",
    "# Print how many times each number was rolled\n",
    "for roll_result in range(1, 13):\n",
    "    print(\"The number\", str(roll_result), \"was rolled\", str(rolls[roll_result]), \"times.\")\n",
    "\n",
    "#Total roll between all of them\n",
    "#sum = 0\n",
    "#for roll_result in rolls:\n",
    "   # sum += roll_result * rolls[roll_result]\n",
    "\n",
    "#print(\"The total roll result was\", str(sum))\n"
   ]
  },
  {
   "cell_type": "markdown",
   "metadata": {},
   "source": [
    "#### References:\n",
    "\n",
    "https://www.instructables.com/How-to-Roll-a-Dice-Using-Python/\n",
    "https://numpy.org/devdocs/reference/random/generated/numpy.random.random_integers.html\n",
    "https://gist.github.com/cosme12/8e63641ae58d34b684eae8a36d7f3f26\n",
    "https://www.codegrepper.com/code-examples/python/python+random+dice\n",
    "https://www.pythonforbeginners.com/code-snippets-source-code/game-rolling-the-dice"
   ]
  },
  {
   "cell_type": "markdown",
   "metadata": {},
   "source": [
    "### Task no.3  Using Numpy.random Binomial to simulate flipping a coin. \n"
   ]
  },
  {
   "cell_type": "code",
   "execution_count": 6,
   "metadata": {},
   "outputs": [
    {
     "name": "stdout",
     "output_type": "stream",
     "text": [
      "[ 7  4  3  6  4  5  9  4  4  9  4  5  3  4  3  4  7  9  5  4  3  5  4  4\n",
      "  8  5  6  5  8  7  5  4  7  5  6  6  5  5  5  5  4  7  5  7  6  5  5  3\n",
      "  6  6  8  6  5  6  6  2  6  3  6  5  4  7  6  3  3  4  5  7  5  5  6  4\n",
      "  4  7  7  5  3  3  5  6  6  6  5  7  4  3  3  6  4  4  6  6  5  6  6  5\n",
      "  6  6  3  5  5  4  6  3  5  5  7  4  5  5  3  6  8  4  2  5  2  5  5  3\n",
      "  4  5  5  6  5  5  7  6  2  6  5  4  6  4  5  3  5  5  4  4  5  5  5  5\n",
      "  6  6  4  5  3  3  4  2  8  3  2  2  4  7  6  2  6  7  6  6  6  6  3  4\n",
      "  4  4  5  7  3  6  5  3  2  3  5  6  5  5  2  7  2  4  7  5  7  2  3  6\n",
      "  6  7  6  5  6  4  8  3  6  3  5  6  7  8  5  5  8  7  6  2  5  5  9  4\n",
      "  5  3  7  4  2  4  4  4  6  1  7  4  5  3  6  6  2  6  3  5  6  2  6  6\n",
      "  3  3  2  6  5  4  3  6  6  3  4  4  4  5  4  2  3  5  8  4  3  8  6  5\n",
      "  5  5  4  3  3  2  4  4  5  8  7  3  4  2  4  6  7  4  5  7  7  5  6  6\n",
      "  5  7  4  4  7  3  4  4  5  5  3  5  6  6  6  4  6  4  5  5  7  6  5  5\n",
      "  4  3  5  5  5  5  3  4  5  6  5  5  3  7  6  7  5  5  6  3  4  5  4  4\n",
      "  3  8  4  5  5  5  5  5  4  2  5  7  7  4  5  2  6  5  6  4  2  5  5  8\n",
      "  4  9  6  5  5  8  4  3  3  5  6  6  4  5  4  6  7  4  6  5  4  5  3  2\n",
      "  5  8  4  4  6  5  3  5  6  4  5  3  5  5  5  4  5  5  2  5  4  4  4  4\n",
      "  3  7  2  3  9  9  4  5  7  6  7  6  3  5  4  6  4  4  5  3  4  6  5  1\n",
      "  6  5  5  4  7  6  6  2  4  6  4  5  5  7  2  4  8  6  2  5  4  1  7  3\n",
      "  4  7  5  6  6  3  6  4  6  6  7  5  4  5  8  4  7  8  4  2  5  3  6  5\n",
      "  6  3  3  3  7  6 10  9  4  5  6  5  2  5  6  5  4  5  5  6  4  5  6  3\n",
      "  5  5  5  5  5  5  5  6  6  7  4  7  5  3  1  5  6  5  2  5  4  7  7  5\n",
      "  7  5  4  6  6  4  7  8  5  3  3  4  6  4  2  4  6  6  3  6  9  5  2  4\n",
      "  3  7  3  4  7  7  4  4  5  2  7  3  4  5  5  6  6  4  7  6  6  5  7  6\n",
      "  8  6  6  6  7  4  8  8  4  8  3  7  7  5  4  5  6  3  3  4  4  5  9  5\n",
      "  7  5  6  6  7  6  4  5  5  5  6  6  5  4  5  4  1  8  8  5  5  6  5  6\n",
      "  7  6  5  7  4  3 10  5  7  7  8  4  6  3  3  6  7  4  7  1  6  5  5  4\n",
      "  5  1  4  6  5  6  4  6  6  7  4  5  5  4  5  9  6  5  4  4  5  4  7  3\n",
      "  2  3  5  7  5  4  5  3  5  4  4  3  3  7  6  5  4  5  5  5  6  7  5  6\n",
      "  1  7  7  2  2  5  5  4  2  5  7  5  1  6  6  7  5  8  5  4  6  6  5  5\n",
      "  7  7  5  5  3  3  4  6  5  7  5  4  4  3  5  3  5  3  5  4  6  5  6  7\n",
      "  6  6  5  6  3  7  7  6  3  4  5  7  3  5  5  6  6  5  3  4  6  2  1  2\n",
      "  4  3  6  2  8  5  6  6  6  4  5  3  5  7  2  6  5  5  6  6  6  5  5  6\n",
      "  6  5  2  6  4  1  7  4  5  5  1  6  3  4  4  6  5  5  4  4  2  5  7  4\n",
      "  7  4  6  5  7  5  5  5  4  4  7  4  7  4  6  4  5  5  4  5  6  4  3  5\n",
      "  4  6  6  5  3  7  6  6  4  8  7  3  5  6  7  4  7  4  3  3  7  4  5  6\n",
      "  2  5  1  6  2  6  7  4  5  4  5  7  6  5  5  5  6  4  7  6  6  3  5  6\n",
      "  5  4  3  4  3  5  2  5  5  6  6  6  7  5  5  4  3  6  8  6  3  5  6  6\n",
      "  3  4  3  6  3  7  7  4  5  3  5  5  5  6  5  3  7  3  4  4  5  5  2  4\n",
      "  8  4  6  5  4  6  2  6  7  7  3  5  5  5  4  5  8  5  4  5  4  3  6  4\n",
      "  5  3  6  5  3  6  8  5  6  2  7  6  6  4  5  6  4  4  4  4  4  6  7  3\n",
      "  4  5  9  8  3  7  6  6  5  5  6  4  5  5  4  6]\n"
     ]
    }
   ],
   "source": [
    "import numpy as np\n",
    "import random\n",
    "\n",
    "n, p = 10, .5 # number of trials, probability of each trial\n",
    "s = np.random.binomial(n, p, 1000)\n",
    "# result of flipping a coin 10 times, tested 1000 times.\n",
    "print(s)"
   ]
  },
  {
   "cell_type": "code",
   "execution_count": 1,
   "metadata": {},
   "outputs": [
    {
     "name": "stdout",
     "output_type": "stream",
     "text": [
      "r\tp(r)\n",
      "0\t0.004096000000000002\n",
      "1\t0.03686400000000005\n",
      "2\t0.13824000000000003\n",
      "3\t0.2764800000000001\n",
      "4\t0.31104\n",
      "5\t0.18662400000000007\n",
      "6\t0.04665599999999999\n",
      "mean = 3.5999999999999996\n",
      "variance = 1.44\n",
      "r\tp(r)\n",
      "0\t0.004096000000000002\n",
      "1\t0.03686400000000005\n",
      "2\t0.13824000000000003\n",
      "3\t0.2764800000000001\n",
      "4\t0.31104\n",
      "5\t0.18662400000000007\n",
      "6\t0.04665599999999999\n",
      "mean = 3.5999999999999996\n",
      "variance = 1.44\n"
     ]
    },
    {
     "data": {
      "image/png": "[encoded data removed]",
      "text/plain": [
       "<Figure size 432x288 with 1 Axes>"
      ]
     },
     "metadata": {
      "needs_background": "light"
     },
     "output_type": "display_data"
    }
   ],
   "source": [
    "#Calculating the Binomial distribution table \n",
    "\n",
    "#The code below does the following :\n",
    "\n",
    "#n ( no of coin tosses) and p ( probability of getting heads)\n",
    "#Define a list of values of r (from 0 to n)\n",
    "#Get mean and variance\n",
    "#for each r , calculate the pmf and store in a list\n",
    "\n",
    "\n",
    "from scipy.stats import binom \n",
    "# setting the values of n and p \n",
    "n = 6\n",
    "p = 0.6\n",
    "# defining the list of r values \n",
    "r_values = list(range(n + 1)) \n",
    "# obtaining the mean and variance  \n",
    "mean, var = binom.stats(n, p) \n",
    "# list of pmf values \n",
    "dist = [binom.pmf(r, n, p) for r in r_values ] \n",
    "# printing the table \n",
    "print(\"r\\tp(r)\") \n",
    "for i in range(n + 1): \n",
    "    print(str(r_values[i]) + \"\\t\" + str(dist[i])) \n",
    "# printing mean and variance \n",
    "print(\"mean = \"+str(mean)) \n",
    "print(\"variance = \"+str(var))\n",
    "\n",
    "# Plotting results \n",
    "\n",
    "#Example code 10\n",
    "\n",
    "#Calculating the Binomial distribution table \n",
    "\n",
    "#The code below does the following :\n",
    "\n",
    "#n ( no of coin tosses) and p ( probability of getting heads)\n",
    "#Define a list of values of r (from 0 to n)\n",
    "#Get mean and variance\n",
    "#for each r , calculate the pmf and store in a list\n",
    "\n",
    "\n",
    "from scipy.stats import binom \n",
    "# setting the values of n and p \n",
    "n = 6\n",
    "p = 0.6\n",
    "# defining the list of r values \n",
    "r_values = list(range(n + 1)) \n",
    "# obtaining the mean and variance  \n",
    "mean, var = binom.stats(n, p) \n",
    "# list of pmf values \n",
    "dist = [binom.pmf(r, n, p) for r in r_values ] \n",
    "# printing the table \n",
    "print(\"r\\tp(r)\") \n",
    "for i in range(n + 1): \n",
    "    print(str(r_values[i]) + \"\\t\" + str(dist[i])) \n",
    "# printing mean and variance \n",
    "print(\"mean = \"+str(mean)) \n",
    "print(\"variance = \"+str(var))\n",
    "\n",
    "# Plotting results \n",
    "\n",
    "from scipy.stats import binom \n",
    "import matplotlib.pyplot as plt \n",
    "# setting the values \n",
    "# of n and p \n",
    "n = 6\n",
    "p = 0.6\n",
    "# defining list of r values \n",
    "r_values = list(range(n + 1)) \n",
    "# list of pmf values \n",
    "dist = [binom.pmf(r, n, p) for r in r_values ] \n",
    "# plotting the graph  \n",
    "plt.bar(r_values, dist) \n",
    "plt.show()\n"
   ]
  },
  {
   "cell_type": "markdown",
   "metadata": {},
   "source": [
    "\n",
    "https://cmdlinetips.com/2018/12/simulating-coin-toss-experiment-with-binomial-random-numbers-using-numpy/\n",
    "https://www.w3schools.com/python/numpy_random_binomial.asp\n",
    "https://www.geeksforgeeks.org/python-binomial-distribution/"
   ]
  },
  {
   "cell_type": "markdown",
   "metadata": {},
   "source": [
    "### Task No. 4:  Simpsons Paradox - How data can fool you  ?\n",
    "\n",
    "To create 4 datasets , each with an x array and a corresponding y array , to demonstrate Simpson's Paradox. \n",
    "\n",
    "NB: Create the x arrays using numpy.linspace and create the y array for each x using notation like :\n",
    "y = a * x + b where the a and b for each pair to demonstrate the paradox.\n",
    "\n",
    "#### Background :[1,2]\n",
    "\n",
    "Simpson's paradox has been around since 1899 but wasnt offically named until 1972 by Colin R, Blyth based on Edward H. Simpson's paper in 1951. It is a statistical and probability phenomenon where a total dataset shows one trend while the subsets of the data set show the opposite trends or none at all.\n",
    "A resolution to this paradox can be achieved when the casual relations and varibles are examined.\n"
   ]
  },
  {
   "cell_type": "markdown",
   "metadata": {},
   "source": [
    "##### Dataset Example 1 : An example of correlation Reversal : Hours of Exercise vs Chance of Developing disease\n",
    "\n",
    "The below graphs of Probability vs hrs of exercise for under and over 50 age grps show a negative correlation correlation between hrs of exercise and change of developing a disease. However when you combine both age grps results the correlation reverses and this is due to the presence of the age variable that needs to be controlled. "
   ]
  },
  {
   "cell_type": "code",
   "execution_count": 28,
   "metadata": {},
   "outputs": [
    {
     "data": {
      "image/png": "[encoded data removed]",
      "text/plain": [
       "<Figure size 1440x576 with 2 Axes>"
      ]
     },
     "metadata": {
      "needs_background": "light"
     },
     "output_type": "display_data"
    },
    {
     "data": {
      "image/png": "[encoded data removed]",
      "text/plain": [
       "<Figure size 1440x576 with 1 Axes>"
      ]
     },
     "metadata": {
      "needs_background": "light"
     },
     "output_type": "display_data"
    }
   ],
   "source": [
    "import numpy as np\n",
    "import pandas as pd\n",
    "from numpy.polynomial.polynomial import polyfit\n",
    "import matplotlib.pyplot as plt\n",
    "\n",
    "n_samples = 100\n",
    "np.random.seed(42)\n",
    "ages = np.linspace(20, 50, n_samples)\n",
    "hours = np.linspace(1, 5, n_samples) + np.random.randn(n_samples) *  2\n",
    "p = 12 + 0.5 * ages + -2.1 * hours + np.random.randn(n_samples) \n",
    "under_50 = pd.DataFrame({'age': ages, 'Hours Exercised': hours, 'probability': p})\n",
    "#print(ages,hours,p)\n",
    "\n",
    "n_samples = 100\n",
    "ages = np.linspace(50, 85, n_samples)\n",
    "hours = np.linspace(3, 8, n_samples) + np.random.randn(n_samples)*0.5 \n",
    "p = 40 + 0.32 * ages + -3.2 * hours + np.random.randn(n_samples) \n",
    "over_50 = pd.DataFrame({'age': ages, 'Hours Exercised': hours, 'probability': p})\n",
    "#print(ages,hours,p)\n",
    "\n",
    "def plot_relationship(data, c, color, ax):\n",
    "    \"\"\"Plot a scatter plot with linear fit\"\"\"\n",
    "    x, y = np.array(data[c]), np.array(data['probability'])\n",
    "    # Linear fit (polynomial of degree 1)\n",
    "    b, m = polyfit(x, y, 1)\n",
    "    # Plot scatterplot\n",
    "    data.plot(x = c, y = 'probability', c = color, \n",
    "              style = 'o', legend = None, ax = ax, ms = 10)\n",
    "    # Plot linear fit\n",
    "    ax.plot(x, m * x + b, '-', color = 'k');\n",
    "    if color == '#d9d142':\n",
    "        plt.title(f'Probability vs {c.capitalize()} over 50')\n",
    "    elif color == '#04c5ff':\n",
    "        plt.title(f'Probability vs {c.capitalize()} under 50')\n",
    "    else:\n",
    "        plt.title(f'Probability vs {c.capitalize()} Combined')\n",
    "    corr_coef = np.corrcoef(x, y)[0][1]\n",
    "    ax = plt.gca()\n",
    "    plt.ylabel('Probability'); \n",
    "    plt.text(0.2, 0.75, r'$\\rho$ = ' + f'{round(corr_coef, 2)}', fontsize = 28, color = 'k', \n",
    "             transform=ax.transAxes)\n",
    "\n",
    "    \n",
    "plt.figure(figsize = (20, 8))\n",
    "ax = plt.subplot(1, 2, 1)\n",
    "plot_relationship(under_50, 'Hours Exercised', '#04c5ff', ax)\n",
    "ax = plt.subplot(1, 2, 2)\n",
    "plot_relationship(over_50, 'Hours Exercised', '#d9d142', ax)\n",
    "\n",
    "plt.figure(figsize = (20, 8))\n",
    "combined = pd.concat([under_50, over_50], axis = 0)\n",
    "ax = plt.subplot(1, 1, 1)\n",
    "plot_relationship(combined, 'Hours Exercised', 'r', ax)\n",
    "\n"
   ]
  },
  {
   "cell_type": "code",
   "execution_count": null,
   "metadata": {},
   "outputs": [],
   "source": [
    "plt.figure(figsize = (10, 8))\n",
    "combined = pd.concat([under_50, over_50], axis = 0)\n",
    "ax = plt.subplot(1, 1, 1)\n",
    "plot_relationship(combined, 'Hours Exercised', 'r', ax)\n",
    "\n",
    "plt.figure(figsize = (20, 8))\n",
    "ax = plt.subplot(1, 2, 1)\n",
    "plot_relationship(under_50, 'age', '#04c5ff', ax)\n",
    "ax = plt.subplot(1, 2, 2)\n",
    "plot_relationship(over_50, 'age', '#d9d142', ax)\n",
    "\n",
    "plt.figure(figsize = (10, 8))\n",
    "ax = plt.subplot(1, 1, 1)\n",
    "plot_relationship(combined, 'age', 'r', ax)\n",
    "\n",
    "\n"
   ]
  },
  {
   "cell_type": "markdown",
   "metadata": {},
   "source": [
    "#### References \n",
    "[1] https://scienceterms.net/psychology/simpsons-paradox/\n",
    "[2] https://en.wikipedia.org/wiki/Simpson%27s_paradox\n",
    "[3] https://numpy.org/doc/stable/reference/generated/numpy.linspace.html\n",
    "[4] https://github.com/WillKoehrsen/Data-Analysis/blob/master/statistics/Simpson's%20Paradox.ipynb\n"
   ]
  },
  {
   "cell_type": "code",
   "execution_count": null,
   "metadata": {},
   "outputs": [],
   "source": []
  }
 ],
 "metadata": {
  "kernelspec": {
   "display_name": "Python 3",
   "language": "python",
   "name": "python3"
  },
  "language_info": {
   "codemirror_mode": {
    "name": "ipython",
    "version": 3
   },
   "file_extension": ".py",
   "mimetype": "text/x-python",
   "name": "python",
   "nbconvert_exporter": "python",
   "pygments_lexer": "ipython3",
   "version": "3.8.3"
  }
 },
 "nbformat": 4,
 "nbformat_minor": 2
}
