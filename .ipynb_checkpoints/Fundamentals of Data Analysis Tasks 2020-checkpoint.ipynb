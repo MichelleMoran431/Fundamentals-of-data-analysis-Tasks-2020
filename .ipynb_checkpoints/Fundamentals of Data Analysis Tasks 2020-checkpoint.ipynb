{
 "cells": [
  {
   "cell_type": "markdown",
   "metadata": {},
   "source": [
    "### Task  No. 1 : \n",
    "\n",
    "Write a Python function called counts that takes a list as\n",
    "input and returns a dictionary of unique items in the list as keys and the number of\n",
    "times each item appears as values\n",
    "\n",
    "\n",
    "### Background Research: \n",
    "\n",
    "[1][2] \n",
    "\n",
    "#### Lists and Dictionaries \n",
    "\n",
    "In python , a Dictionary and a list are basically a collection of objects and share a number of characteristics such as being mutable and changeable. It is how elements in a list or dictionary is accessed that the difference between them arises :\n",
    "\n",
    "- Lists elements are accessed through their position in that list whereas dictionary elements are accessed through their keys\n",
    "\n",
    "So for this assignment , we are asked to count a list of unique items and to output the results in a form of a dictionary collection of keys and values. Where keys are the items in list and value is the number of times each item appears. \n",
    "\n",
    "\n",
    "Its important to note ,key/value elements are in curly brackets separated by a colon in dictionaries. To access information from dictionaries ,we use square brackets.  \n",
    "\n",
    "A dictionary Key  ( any data type or built in function) can only be used once , otherwise it will be overwritten however this is not the case for a value .\n",
    "\n",
    "Example code below taken freom the task details shows the difference in order between lists and dictionaries :"
   ]
  },
  {
   "cell_type": "code",
   "execution_count": 10,
   "metadata": {},
   "outputs": [
    {
     "data": {
      "text/plain": [
       "'A'"
      ]
     },
     "execution_count": 10,
     "metadata": {},
     "output_type": "execute_result"
    }
   ],
   "source": [
    "List = ['A', 'A', 'B', 'C', 'A']\n",
    "List [0]"
   ]
  },
  {
   "cell_type": "code",
   "execution_count": 13,
   "metadata": {},
   "outputs": [
    {
     "data": {
      "text/plain": [
       "3"
      ]
     },
     "execution_count": 13,
     "metadata": {},
     "output_type": "execute_result"
    }
   ],
   "source": [
    "Dictionary = {'A': 3, 'B': 1, 'C': 1}\n",
    "Dictionary ['A']"
   ]
  },
  {
   "cell_type": "markdown",
   "metadata": {},
   "source": [
    "For a list above , looking for the element in position 0 gives you 'A' , however looking the an element in a dictionary such as 'A' just gives you the corresponding value i.e number of times it appears.\n"
   ]
  },
  {
   "cell_type": "markdown",
   "metadata": {},
   "source": [
    "\n",
    "#### Methods of Counting elements in list and outputing via a Dictionary \n",
    "\n",
    "[3] [4] \n",
    "\n",
    "There are different Ways in Python to count words without the use of any modules  : \n",
    "\n",
    "1.For loop :where the number of spaces between the two characters are counted\n",
    "\n",
    "2.Split() : by removing the spaces from the start and end, breaking every word whenever encountered a space and storing them in a list. The length (len) of the list is the total count of words.\n",
    "\n",
    "There are different Ways in Python to  count the frequency of words in a string : \n",
    "\n",
    "1.Initializing a dictionary to store the frequency of words.The keys operation returns a list of keys that are defined in the dictionary. \n",
    "\n",
    "2.Count() can be used to count the number of times a word occurs in a string or in other words it is used to tell the frequency of a word in a string. We just need to pass the word in the argument.\n",
    "\n"
   ]
  },
  {
   "cell_type": "markdown",
   "metadata": {},
   "source": [
    "### Development \n",
    "\n",
    "[3]\n",
    "\n",
    "Here we will look at the 2 ways mentioned of counting the frequency of words in a string : \n",
    "\n",
    "1. Using the Task example of list elements and creating a dictionary. Also incorporating a For loop and an IF statement to return a dictionary output where each list element is key. For this example it is the length of the original list can be complex and content of the list that can be limiting or govern the output dictionary result. See Code Example no. 1"
   ]
  },
  {
   "cell_type": "code",
   "execution_count": 5,
   "metadata": {
    "scrolled": true
   },
   "outputs": [
    {
     "name": "stdout",
     "output_type": "stream",
     "text": [
      "{'A': 3, 'B': 1, 'C': 1}\n"
     ]
    }
   ],
   "source": [
    "#CODE EXAMPLE NO.1\n",
    "\n",
    "my_list =[\"A\",\"A\",\"B\",\"C\",\"A\"]\n",
    "f = {} # created an empty dictionary\n",
    "for item in my_list:\n",
    "    if item in f:\n",
    "        f[item] += 1\n",
    "    else:\n",
    "        f[item] = 1\n",
    "print(f) \n"
   ]
  },
  {
   "cell_type": "markdown",
   "metadata": {},
   "source": [
    "#### Limitations\n",
    "\n",
    "It is important to consider the data types to be examined. In terms of strings , they may need to be preprocessed prior to been counted. By Preprocessed , I mean removing spaces , making the string in the same cases ( either uppercase or lowercase). Also if we are using boolean expressions in the same list , these must be positioned last in the list in order to be counted.  Below is example of this : \n",
    "\n",
    "A limitation to this function is the data types /elements contained in the list. For example , if our list contain one type of element , either a string ( lower case or higher case elements) or integers or even boolean expressions then the function would work. The arrangement of the data types in the list is important also. For example if there are integers /string elements before a boolean expressions , than the function would output a correct count. However if they were arrangement after the boolean expression , then the python output would be incorrect. That is in python , the True expression counts as 1 and the False expression counts as 0. \n",
    "In Code example no. 2  we have included various data types in list and also created the function count(). Count() can be used to count the number of times a word occurs in a string or in other words it is used to tell the frequency of a word in a string. We just need to pass the list element in the argument\n",
    "\n"
   ]
  },
  {
   "cell_type": "code",
   "execution_count": 106,
   "metadata": {},
   "outputs": [
    {
     "name": "stdout",
     "output_type": "stream",
     "text": [
      "True 6\n",
      "False 1\n",
      "A 3\n",
      "B 1\n",
      "C 1\n",
      "2 3\n"
     ]
    }
   ],
   "source": [
    "#CODE EXAMPLE NO.2\n",
    "\n",
    "def CountFrequency(my_list): \n",
    "      \n",
    "    # Creating an empty dictionary  \n",
    "    freq = {} \n",
    "    for items in my_list: \n",
    "        freq[items] = my_list.count(items) \n",
    "        \n",
    "    for key, value in freq.items(): \n",
    "        print (key ,value)\n",
    "        \n",
    "# Driver function \n",
    "if __name__ == \"__main__\":  \n",
    "   \n",
    "    my_list =[True, False, True ,\"A\",\"A\",\"B\",\"C\",\"A\", 1,2,2,2,1,1,1]\n",
    "    CountFrequency(my_list) \n"
   ]
  },
  {
   "cell_type": "markdown",
   "metadata": {},
   "source": [
    "\n",
    "The Python program to counted the frequency of elements in a list using a dictionary and the in-built count() function but the output returned a dictionary stating the True expression appeared 6 times , however it was only there 3 times but because there were integers at the end of the list , it counted the 1s as true as well\n"
   ]
  },
  {
   "cell_type": "markdown",
   "metadata": {},
   "source": [
    "To overcome this and other examples of data types issues , variables can be added to the function, See code example no. 3 below which shows an example of case sensitivity and use of .lower() :"
   ]
  },
  {
   "cell_type": "code",
   "execution_count": 8,
   "metadata": {
    "scrolled": true
   },
   "outputs": [
    {
     "name": "stdout",
     "output_type": "stream",
     "text": [
      "Enter a string:hello HELLO hello\n",
      "hello 3\n",
      "None\n"
     ]
    }
   ],
   "source": [
    "####Code example no. 3\n",
    "def CountFrequency(my_list): \n",
    "    \n",
    "    my_list=my_list.lower()\n",
    "    my_list=my_list.split(\" \")\n",
    "    # Creating an empty dictionary  \n",
    "    freq = {} \n",
    "    for items in my_list: \n",
    "        freq[items] = my_list.count(items) \n",
    "        \n",
    "    for key, value in freq.items(): \n",
    "        print (key ,value)\n",
    "# Driver function \n",
    "if __name__ == \"__main__\":  \n",
    "    \n",
    "\n",
    "    user_input= str(input(\"Enter a string:\"))\n",
    "    \n",
    "    print(CountFrequency(user_input))\n"
   ]
  },
  {
   "cell_type": "markdown",
   "metadata": {},
   "source": [
    "### Code example no. 4\n",
    "\n",
    "A Python program to count the frequency of elements determined by user input by using the get() function. Python dictionary method get() returns a value for the given key. If key is not available then returns default value None."
   ]
  },
  {
   "cell_type": "code",
   "execution_count": 2,
   "metadata": {},
   "outputs": [
    {
     "name": "stdout",
     "output_type": "stream",
     "text": [
      "Enter String:HELLO hello 123\n",
      "{'HELLO': 1, 'hello': 1, '123': 1}\n"
     ]
    }
   ],
   "source": [
    "\n",
    "####Code example no. 4\n",
    "user_str = input('Enter String:')\n",
    "l = user_str.split()\n",
    "d={}\n",
    "for i in l: \n",
    "    d[i]=d.get(i,0)+1 #functionality available in dictionary\n",
    "print(d)"
   ]
  },
  {
   "cell_type": "code",
   "execution_count": 13,
   "metadata": {},
   "outputs": [
    {
     "name": "stdout",
     "output_type": "stream",
     "text": [
      "Enter a string:\"Woodchuck How much wood would a woodchuck chuck if a woodchuck could chuck wood?\"\n",
      "{'\"woodchuck': 1, 'how': 1, 'much': 1, 'wood': 1, 'would': 1, 'a': 2, 'woodchuck': 2, 'chuck': 2, 'if': 1, 'could': 1, 'wood?\"': 1}\n"
     ]
    }
   ],
   "source": [
    "def CountFrequency(string):\n",
    "    \n",
    "    string=string.lower()\n",
    "    string=string.split(\" \")\n",
    "    Count_Frequency={}\n",
    "\n",
    "    for i in string:\n",
    "\n",
    "        if i in Count_Frequency:\n",
    "            Count_Frequency[i]+=1\n",
    "        else:\n",
    "            Count_Frequency[i]=1\n",
    "\n",
    "    return(Count_Frequency)\n",
    "    \n",
    "\n",
    "user_input= str(input(\"Enter a string:\"))\n",
    "print(CountFrequency(user_input))"
   ]
  },
  {
   "cell_type": "markdown",
   "metadata": {},
   "source": [
    "### References : \n",
    "\n",
    "[1] https://www.w3schools.com/python/python_dictionaries.asp\n",
    "\n",
    "[2] https://realpython.com/python-dicts/\n",
    "\n",
    "[3] https://www.geeksforgeeks.org/counting-the-frequencies-in-a-list-using-dictionary-in-python/\n",
    "\n",
    "[4] https://www.geeksforgeeks.org/python-frequency-of-each-character-in-string/\n",
    "\n",
    "[5] https://www.tutorialspoint.com/counting-the-frequencies-in-a-list-using-dictionary-in-python\n",
    "\n",
    "[6] https://www.pythonpool.com/python-count-words-in-string/\n",
    "\n",
    "[7] https://www.includehelp.com/python/find-the-frequency-of-each-character-in-a-string.aspx\n",
    "\n"
   ]
  },
  {
   "cell_type": "code",
   "execution_count": null,
   "metadata": {},
   "outputs": [],
   "source": [
    "###Task no. 2\n",
    "\n",
    "Write a Python function call dicerolls that simulates rolling dice : \n",
    "    \n",
    "It should : \n",
    "    \n",
    "    - have 2 parameters (k) number of dice  and (n) no. of times to roll the dice \n",
    "    - simulate randomly rolling k dice n times, keeping track of each total face value\n",
    "    - return a dictionary with the number of times each possible total face value occurred\n",
    "    "
   ]
  },
  {
   "cell_type": "raw",
   "metadata": {},
   "source": [
    "ref :\n",
    "https://www.instructables.com/How-to-Roll-a-Dice-Using-Python/\n",
    "\n",
    "https://numpy.org/devdocs/reference/random/generated/numpy.random.random_integers.html\n",
    "https://gist.github.com/cosme12/8e63641ae58d34b684eae8a36d7f3f26\n",
    "https://www.codegrepper.com/code-examples/python/python+random+dice"
   ]
  },
  {
   "cell_type": "code",
   "execution_count": 33,
   "metadata": {},
   "outputs": [
    {
     "name": "stdout",
     "output_type": "stream",
     "text": [
      "Counter({1: 176, 5: 173, 4: 166, 3: 164, 2: 162, 6: 159})\n"
     ]
    }
   ],
   "source": [
    "import random\n",
    "import numpy as np\n",
    "from collections import Counter\n",
    "\n",
    "def dicerolls(k,num_throws):\n",
    "    k= 2\n",
    "    num_throws= 1000\n",
    "    diceroll={}\n",
    "\n",
    "    dicerolls = Counter(np.random.choices(k,num_throws))\n",
    "print(counter)\n",
    "    "
   ]
  },
  {
   "cell_type": "code",
   "execution_count": 36,
   "metadata": {},
   "outputs": [
    {
     "name": "stdout",
     "output_type": "stream",
     "text": [
      "Counter({5: 181, 1: 174, 3: 172, 4: 167, 6: 157, 2: 149})\n"
     ]
    }
   ],
   "source": [
    "import numpy as np\n",
    "\n",
    "import random\n",
    "\n",
    "from collections import Counter\n",
    "\n",
    "sides=range(1,7)\n",
    "\n",
    "num_throws = 1000\n",
    "\n",
    "counter = Counter(random.choices(sides,k=num_throws))\n",
    "\n",
    "print (counter)"
   ]
  },
  {
   "cell_type": "code",
   "execution_count": null,
   "metadata": {},
   "outputs": [],
   "source": []
  }
 ],
 "metadata": {
  "kernelspec": {
   "display_name": "Python 3",
   "language": "python",
   "name": "python3"
  },
  "language_info": {
   "codemirror_mode": {
    "name": "ipython",
    "version": 3
   },
   "file_extension": ".py",
   "mimetype": "text/x-python",
   "name": "python",
   "nbconvert_exporter": "python",
   "pygments_lexer": "ipython3",
   "version": "3.7.4"
  }
 },
 "nbformat": 4,
 "nbformat_minor": 2
}
