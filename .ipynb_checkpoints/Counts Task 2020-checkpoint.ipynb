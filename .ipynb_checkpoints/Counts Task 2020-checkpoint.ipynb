{
 "cells": [
  {
   "cell_type": "markdown",
   "metadata": {},
   "source": [
    "###### Task Details : \n",
    "\n",
    "Write a Python function called counts that takes a list as\n",
    "input and returns a dictionary of unique items in the list as keys and the number of\n",
    "times each item appears as values\n",
    "\n",
    "###### Reference : \n",
    "\n",
    "-https://www.geeksforgeeks.org/counting-the-frequencies-in-a-list-using-dictionary-in-python/\n",
    "-https://www.geeksforgeeks.org/python-frequency-of-each-character-in-string/\n",
    "-https://www.tutorialspoint.com/counting-the-frequencies-in-a-list-using-dictionary-in-python\n",
    "-https://www.pythonpool.com/python-count-words-in-string/\n",
    "\n",
    "\n",
    "###### Background Research:\n",
    "\n",
    "Most efficient way to count the frequency in python would be to use the collections module. It has a number of commonly ised data structures from the python collections module , one such is COUNTER. It returns a dictionary containing keys and its values which is unordered but within COUNTER , there is additional functions to overcome this. \n",
    "\n",
    "However in accordance with task there are different Ways in Python to count words without the use of any modules  : \n",
    "\n",
    "1.For loop :where the number of spaces between the two characters are counted\n",
    "\n",
    "2.Split() : by removing the spaces from the start and end, breaking every word whenever encountered a space and storing them in a list. The length (len) of the list is the total count of words.\n",
    "\n",
    "There are different Ways in Python to  count the frequency of words  in a string : \n",
    "\n",
    "1.Initializing a dictionary to store the frequency of words. Curly brackets defines a dictionary and square brackets accesses things within it. The keys operation returns a list of keys that are defined in the dictionary. Code example 1 below using list given in task\n",
    "\n",
    "2.Count() can be used to count the number of times a word occurs in a string or in other words it is used to tell the frequency of a word in a string. We just need to pass the word in the argument. Code example 2 below using list given in task\n",
    "\n",
    "###### Development : \n",
    "\n",
    "When considering using count() or any other method , it is important to consider the data types to be examined. In terms of strings , they may need to be preprocessed prior to been counted. By Preprocessed , I mean removing spaces , making the string in the same cases ( either uppercase or lowercase). \n",
    "Below are different examples of code for counting the frequencies of words /letters from a list given to user input. \n",
    "\n"
   ]
  },
  {
   "cell_type": "markdown",
   "metadata": {},
   "source": [
    "##### Code example 1\n",
    "\n",
    "Python program to count the frequency of elements in a list using a dictionary\n",
    "Using a simple for loop to pass the list through\n"
   ]
  },
  {
   "cell_type": "code",
   "execution_count": 1,
   "metadata": {
    "scrolled": true
   },
   "outputs": [
    {
     "name": "stdout",
     "output_type": "stream",
     "text": [
      "{'A': 3, 'B': 1, 'C': 1}\n"
     ]
    }
   ],
   "source": [
    "\n",
    "my_list =[\"A\",\"A\",\"B\",\"C\",\"A\"]\n",
    "f = {} # created an empty dictionary\n",
    "for item in my_list:\n",
    "    if item in f:\n",
    "        f[item] += 1\n",
    "    else:\n",
    "        f[item] = 1\n",
    "print(f) \n"
   ]
  },
  {
   "cell_type": "markdown",
   "metadata": {},
   "source": [
    "##### Code example no. 2\n",
    "\n",
    "Python program to count the frequency of elements in a list using a dictionary and the in-built count() function\n",
    "\n",
    "Again creating an empty dictionary and a for loop argument. Also coding the type of output you want to see. \n",
    "Using the code if _name_==\"_main_\": is ensure that main function CountFrequency(my_list) is used. "
   ]
  },
  {
   "cell_type": "code",
   "execution_count": 3,
   "metadata": {},
   "outputs": [
    {
     "name": "stdout",
     "output_type": "stream",
     "text": [
      "A ->  3\n",
      "B ->  1\n",
      "C ->  1\n"
     ]
    }
   ],
   "source": [
    "\n",
    "def CountFrequency(my_list): \n",
    "      \n",
    "    # Creating an empty dictionary  \n",
    "    freq = {} \n",
    "    for items in my_list: \n",
    "        freq[items] = my_list.count(items) \n",
    "      \n",
    "    for key, value in freq.items(): \n",
    "        print (\"% s -> % d\" % (key, value)) \n",
    "  \n",
    "# Driver function \n",
    "if __name__ == \"__main__\":  \n",
    "   \n",
    "    my_list =[\"A\",\"A\",\"B\",\"C\",\"A\"]\n",
    "    CountFrequency(my_list) \n"
   ]
  },
  {
   "cell_type": "markdown",
   "metadata": {},
   "source": [
    "##### Code example no. 3\n",
    "\n",
    "Python program to count the frequency of elements determined by user input using a dictionary "
   ]
  },
  {
   "cell_type": "code",
   "execution_count": null,
   "metadata": {},
   "outputs": [],
   "source": [
    "user_str = input('Enter String:')\n",
    "l = user_str.split() \n",
    "d={} \n",
    "for i in l: \n",
    "        if i not in d.keys():\n",
    "            d[i]=0 \n",
    "        d[i]=d[i]+1"
   ]
  },
  {
   "cell_type": "markdown",
   "metadata": {},
   "source": [
    "##### Code example no. 4\n",
    "\n",
    "To modify the above code by using the get() function. Python dictionary method get() returns a value for the given key. If key is not available then returns default value None."
   ]
  },
  {
   "cell_type": "code",
   "execution_count": 1,
   "metadata": {},
   "outputs": [
    {
     "name": "stdout",
     "output_type": "stream",
     "text": [
      "Enter String:halloween is on the 31st october \n",
      "{'halloween': 1, 'is': 1, 'on': 1, 'the': 1, '31st': 1, 'october': 1}\n"
     ]
    }
   ],
   "source": [
    "user_str = input('Enter String:')\n",
    "l = user_str.split()\n",
    "d={}\n",
    "for i in l: \n",
    "    d[i]=d.get(i,0)+1 #functionality available in dictionary\n",
    "print(d)"
   ]
  },
  {
   "cell_type": "code",
   "execution_count": null,
   "metadata": {},
   "outputs": [],
   "source": [
    "def CountFrequency(string):\n",
    "    string=string.lower()\n",
    "    string=string.split(\" \")\n",
    "    Count_Frequency={}\n",
    "    \n",
    "    for i in string:\n",
    "        \n",
    "        if i in Count_Frequency:\n",
    "            Count_Frequency[i]+=1\n",
    "        else:\n",
    "            Count_Frequency[i]=1\n",
    "            \n",
    "    return(Count_Frequency)\n",
    "\n",
    "string=\"Woodchuck How much wood would a woodchuck chuck if a woodchuck could chuck wood ?\" \n",
    "print(CountFrequency(string)) \n"
   ]
  },
  {
   "cell_type": "code",
   "execution_count": null,
   "metadata": {},
   "outputs": [],
   "source": []
  },
  {
   "cell_type": "code",
   "execution_count": null,
   "metadata": {},
   "outputs": [],
   "source": []
  }
 ],
 "metadata": {
  "kernelspec": {
   "display_name": "Python 3",
   "language": "python",
   "name": "python3"
  },
  "language_info": {
   "codemirror_mode": {
    "name": "ipython",
    "version": 3
   },
   "file_extension": ".py",
   "mimetype": "text/x-python",
   "name": "python",
   "nbconvert_exporter": "python",
   "pygments_lexer": "ipython3",
   "version": "3.7.4"
  }
 },
 "nbformat": 4,
 "nbformat_minor": 2
}
