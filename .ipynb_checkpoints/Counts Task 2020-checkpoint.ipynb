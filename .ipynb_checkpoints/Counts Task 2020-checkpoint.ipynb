{
 "cells": [
  {
   "cell_type": "markdown",
   "metadata": {},
   "source": [
    "Task Details : Write a Python function called counts that takes a list as\n",
    "input and returns a dictionary of unique items in the list as keys and the number of\n",
    "times each item appears as values\n",
    "\n",
    "Reference : \n",
    "\n",
    "https://www.geeksforgeeks.org/counting-the-frequencies-in-a-list-using-dictionary-in-python/\n",
    "https://www.geeksforgeeks.org/python-frequency-of-each-character-in-string/\n",
    "https://www.tutorialspoint.com/counting-the-frequencies-in-a-list-using-dictionary-in-python\n",
    "https://www.pythonpool.com/python-count-words-in-string/\n",
    "\n",
    "\n",
    "Background Research:\n",
    "\n",
    "There are different Ways in Python to # count words in a string # : \n",
    "\n",
    "1.For loop :where the number of spaces between the two characters are counted\n",
    "\n",
    "2.Split() : by removing the spaces from the start and end, breaking every word whenever encountered a space and storing them in a list. The length (len) of the list is the total count of words.\n",
    "\n",
    "There are different Ways in Python to # count the frequency of words # in a string : \n",
    "\n",
    "1.Initializing a dictionary to store the frequency of words. Curly brackets defines a dictionary and square brackets accesses things within it. The keys operation returns a list of keys that are defined in the dictionary. \n",
    "\n",
    "2.Count() can be used to count the number of times a word occurs in a string or in other words it is used to tell the frequency of a word in a string. We just need to pass the word in the argument.  \n",
    "\n",
    "blah"
   ]
  },
  {
   "cell_type": "code",
   "execution_count": 1,
   "metadata": {},
   "outputs": [
    {
     "name": "stdout",
     "output_type": "stream",
     "text": [
      "{'A': 3, 'B': 1, 'C': 1}\n"
     ]
    }
   ],
   "source": [
    "\n",
    "my_list =[\"A\",\"A\",\"B\",\"C\",\"A\"]\n",
    "f = {} # created an empty dictionary\n",
    "for item in my_list:\n",
    "    if item in f:\n",
    "        f[item] += 1\n",
    "    else:\n",
    "        f[item] = 1\n",
    "print(f) \n"
   ]
  },
  {
   "cell_type": "code",
   "execution_count": 4,
   "metadata": {},
   "outputs": [
    {
     "name": "stdout",
     "output_type": "stream",
     "text": [
      "A ->  3\n",
      "B ->  1\n",
      "C ->  1\n"
     ]
    }
   ],
   "source": [
    "# Python program to count the frequency of \n",
    "# elements in a list using a dictionary and the in-built count() function\n",
    "  \n",
    "def CountFrequency(my_list): \n",
    "      \n",
    "    # Creating an empty dictionary  \n",
    "    freq = {} \n",
    "    for items in my_list: \n",
    "        freq[items] = my_list.count(items) \n",
    "      \n",
    "    for key, value in freq.items(): \n",
    "        print (\"% s -> % d\" % (key, value)) \n",
    "  \n",
    "# Driver function \n",
    "if __name__ == \"__main__\":  \n",
    "   # my_list =[1, 1, 1, 5, 5, 3, 1, 3, 3, 1, 4, 4, 4, 2, 2, 2, 2] \n",
    "    my_list =[\"A\",\"A\",\"B\",\"C\",\"A\"]\n",
    "    CountFrequency(my_list) \n"
   ]
  },
  {
   "cell_type": "code",
   "execution_count": 5,
   "metadata": {},
   "outputs": [
    {
     "name": "stdout",
     "output_type": "stream",
     "text": [
      "Enter String:Halloween is a scary time of year\n",
      "{'Halloween': 1, 'is': 1, 'a': 1, 'scary': 1, 'time': 1, 'of': 1, 'year': 1}\n"
     ]
    }
   ],
   "source": [
    "user_str = input('Enter String:')\n",
    "l = user_str.split() # splitting the string into words\n",
    "d={} #dictionary storing keys and values\n",
    "for i in l: # using the f loop to ilerate through the words. Store each word as a key into the dictionary and count as its value\n",
    "        if i not in d.keys():#use the if statement to see if the key exists or not\n",
    "            d[i]=0 #initally each word is stored as zero\n",
    "        d[i]=d[i]+1# current value plus increment\n",
    "print(d)#print word frequencies"
   ]
  },
  {
   "cell_type": "code",
   "execution_count": 6,
   "metadata": {},
   "outputs": [
    {
     "name": "stdout",
     "output_type": "stream",
     "text": [
      "Enter String:Halloween is a scary time of year\n",
      "{'Halloween': 1, 'is': 1, 'a': 1, 'scary': 1, 'time': 1, 'of': 1, 'year': 1}\n"
     ]
    }
   ],
   "source": [
    "# to modify the above code by using the get() function. Python dictionary method get() returns a value for the given key. If key is not available then returns default value None.\n",
    "user_str = input('Enter String:')\n",
    "l = user_str.split()\n",
    "d={}\n",
    "for i in l: \n",
    "    d[i]=d.get(i,0)+1 #functionality available in dictionary\n",
    "print(d)"
   ]
  },
  {
   "cell_type": "code",
   "execution_count": null,
   "metadata": {},
   "outputs": [],
   "source": []
  }
 ],
 "metadata": {
  "kernelspec": {
   "display_name": "Python 3",
   "language": "python",
   "name": "python3"
  },
  "language_info": {
   "codemirror_mode": {
    "name": "ipython",
    "version": 3
   },
   "file_extension": ".py",
   "mimetype": "text/x-python",
   "name": "python",
   "nbconvert_exporter": "python",
   "pygments_lexer": "ipython3",
   "version": "3.7.4"
  }
 },
 "nbformat": 4,
 "nbformat_minor": 2
}
