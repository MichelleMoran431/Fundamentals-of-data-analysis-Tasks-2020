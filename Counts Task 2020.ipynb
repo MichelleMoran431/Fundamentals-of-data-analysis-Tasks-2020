{
 "cells": [
  {
   "cell_type": "markdown",
   "metadata": {},
   "source": [
    "Task 1a: User defined function that performs a Counts using the list example in Task no.1\n",
    "Instructions\n",
    "\n",
    "Details : Write a Python function called counts that takes a list as\n",
    "input and returns a dictionary of unique items in the list as keys and the number of\n",
    "times each item appears as values\n",
    "\n",
    "reference : https://www.geeksforgeeks.org/counting-the-frequencies-in-a-list-using-dictionary-in-python/\n",
    "https://www.geeksforgeeks.org/python-frequency-of-each-character-in-string/"
   ]
  },
  {
   "cell_type": "code",
   "execution_count": 1,
   "metadata": {},
   "outputs": [
    {
     "name": "stdout",
     "output_type": "stream",
     "text": [
      "{'A': 3, 'B': 1, 'C': 1}\n"
     ]
    }
   ],
   "source": [
    "\n",
    "my_list =[\"A\",\"A\",\"B\",\"C\",\"A\"]\n",
    "f = {} # created an empty dictionary\n",
    "for item in my_list:\n",
    "    if item in f:\n",
    "        f[item] += 1\n",
    "    else:\n",
    "        f[item] = 1\n",
    "print(f) \n",
    "    \n",
    "\n",
    "\n",
    "\n",
    "    \n"
   ]
  },
  {
   "cell_type": "code",
   "execution_count": null,
   "metadata": {},
   "outputs": [],
   "source": [
    "arr[] = [1, 1, 1, 1, 2, 2, 2, 2, 3, 3, 4, 5, 5]\n"
   ]
  },
  {
   "cell_type": "code",
   "execution_count": null,
   "metadata": {},
   "outputs": [],
   "source": []
  }
 ],
 "metadata": {
  "kernelspec": {
   "display_name": "Python 3",
   "language": "python",
   "name": "python3"
  },
  "language_info": {
   "codemirror_mode": {
    "name": "ipython",
    "version": 3
   },
   "file_extension": ".py",
   "mimetype": "text/x-python",
   "name": "python",
   "nbconvert_exporter": "python",
   "pygments_lexer": "ipython3",
   "version": "3.7.4"
  }
 },
 "nbformat": 4,
 "nbformat_minor": 2
}
